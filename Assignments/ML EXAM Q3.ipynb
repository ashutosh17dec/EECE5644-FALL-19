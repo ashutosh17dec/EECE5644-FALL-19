{
 "cells": [
  {
   "cell_type": "markdown",
   "metadata": {},
   "source": [
    "# Question 3:"
   ]
  },
  {
   "cell_type": "code",
   "execution_count": 2,
   "metadata": {},
   "outputs": [],
   "source": [
    "import matplotlib.pyplot as plt\n",
    "import numpy as np\n",
    "from scipy.stats import multivariate_normal\n",
    "import scipy.linalg as scln\n",
    "from scipy.spatial import distance\n",
    "import numpy.linalg as nplin\n",
    "import pandas as pd  "
   ]
  },
  {
   "cell_type": "code",
   "execution_count": 3,
   "metadata": {},
   "outputs": [],
   "source": [
    "def multivariate_Gaussian(mean, cov, sample):\n",
    "    l = scln.cholesky(cov)\n",
    "    z = np.random.normal(size=(sample, cov.shape[0]))\n",
    "    return (z.dot(l)+mean)"
   ]
  },
  {
   "cell_type": "code",
   "execution_count": 4,
   "metadata": {},
   "outputs": [],
   "source": [
    "def generateW(gamma,sample):\n",
    "    mu = [0,0,0,0]\n",
    "    cov = np.array(gamma*np.identity(4))\n",
    "    return multivariate_Gaussian(mu, cov, sample)"
   ]
  },
  {
   "cell_type": "code",
   "execution_count": 5,
   "metadata": {},
   "outputs": [],
   "source": [
    "#assumptions taken\n",
    "noisesigma = np.array([.2])\n",
    "gamma = [10**i for i in range(-5,5)]\n",
    "trueroot = np.random.uniform(-1,1,3)\n",
    "wtrue = np.poly(trueroot)\n",
    "sample = 10"
   ]
  },
  {
   "cell_type": "code",
   "execution_count": 6,
   "metadata": {},
   "outputs": [],
   "source": [
    "def datageneration(noisesigma, wtrue, sample):\n",
    "    #generating pdfs\n",
    "    x = (np.array(np.random.uniform(-1,1,sample))).reshape(sample,1)\n",
    "    w = np.array(wtrue)\n",
    "    X = []\n",
    "    v = multivariate_Gaussian([0], noisesigma**2, sample)\n",
    "    #calculating y\n",
    "    for i in range(0,sample):\n",
    "        X.append([x[i,0]**3,x[i,0]**2,x[i,0],x[i,0]**0])\n",
    "    X = np.array(X)\n",
    "    Y = (np.multiply(w,X))\n",
    "    y = []\n",
    "    for i in range(0,10):\n",
    "        y.append(sum(Y[i])+v[i,0])\n",
    "    y = np.array(y).reshape(len(y),1)\n",
    "    #plt.figure(1,figsize=(8, 6), dpi=80, facecolor='w', edgecolor='k')\n",
    "    #plt.scatter(x,y)\n",
    "    #plt.show()\n",
    "    return ([X,y[:,0]])"
   ]
  },
  {
   "cell_type": "code",
   "execution_count": 7,
   "metadata": {},
   "outputs": [],
   "source": [
    "def generatingl2(gamma, wtrue,sample,noisesigma):\n",
    "    L2 = []\n",
    "    for i in range(0,100):\n",
    "        a = datageneration(noisesigma, wtrue, sample)\n",
    "        X = np.array(a[0])\n",
    "        y = np.array(a[1])\n",
    "        y = y.reshape(y.shape[0],1)\n",
    "        wtrue1 = wtrue.reshape(wtrue.shape[0],1)\n",
    "        q = np.matrix(((noisesigma[0]**2)/gamma)*np.identity(4)+np.matmul(X.T,X))\n",
    "        wmap = np.matmul(q.I,np.matmul(X.T,y))\n",
    "        l2 = -(wtrue1 - wmap.T)\n",
    "        l2 = np.array(l2)\n",
    "        l2 = sum(l2[0]**2)\n",
    "        L2.append(l2)\n",
    "    return L2"
   ]
  },
  {
   "cell_type": "code",
   "execution_count": 8,
   "metadata": {
    "scrolled": false
   },
   "outputs": [
    {
     "name": "stdout",
     "output_type": "stream",
     "text": [
      "For gamma= 1e-05 :\n",
      "minimum value of L2 distance :  3.9979903121479374\n",
      "25% value of L2 distance :  3.9994844711114648\n",
      "median value of L2 distance : :  3.9999701283783367\n",
      "75% value of L2 distance : :  4.0004008560204385\n",
      "maximum value of L2 distance :  4.001345645498614\n",
      "For gamma= 0.0001 :\n",
      "minimum value of L2 distance :  3.98031826251073\n",
      "25% value of L2 distance :  3.993680796995657\n",
      "median value of L2 distance : :  3.998316128786687\n",
      "75% value of L2 distance : :  4.002530186402144\n",
      "maximum value of L2 distance :  4.013008713335798\n",
      "For gamma= 0.001 :\n",
      "minimum value of L2 distance :  3.8644942100427495\n",
      "25% value of L2 distance :  3.9482483097354306\n",
      "median value of L2 distance : :  3.99083012154938\n",
      "75% value of L2 distance : :  4.028531297711335\n",
      "maximum value of L2 distance :  4.090482058801772\n",
      "For gamma= 0.01 :\n",
      "minimum value of L2 distance :  3.3799551710397875\n",
      "25% value of L2 distance :  3.765116268036546\n",
      "median value of L2 distance : :  3.874061437151591\n",
      "75% value of L2 distance : :  3.998274000602854\n",
      "maximum value of L2 distance :  4.316202191013457\n",
      "For gamma= 0.1 :\n",
      "minimum value of L2 distance :  3.2430049150618228\n",
      "25% value of L2 distance :  3.7855374043878096\n",
      "median value of L2 distance : :  3.9966118274810407\n",
      "75% value of L2 distance : :  4.26716664385034\n",
      "maximum value of L2 distance :  5.274595782232558\n",
      "For gamma= 1 :\n",
      "minimum value of L2 distance :  2.9074230115340662\n",
      "25% value of L2 distance :  4.144033153820862\n",
      "median value of L2 distance : :  4.780680231684699\n",
      "75% value of L2 distance : :  5.50688564372509\n",
      "maximum value of L2 distance :  7.8897271181390565\n",
      "For gamma= 10 :\n",
      "minimum value of L2 distance :  3.2350229628772156\n",
      "25% value of L2 distance :  4.392438260310668\n",
      "median value of L2 distance : :  5.202717519644659\n",
      "75% value of L2 distance : :  6.476360595005154\n",
      "maximum value of L2 distance :  12.404173521898683\n",
      "For gamma= 100 :\n",
      "minimum value of L2 distance :  2.129572512545606\n",
      "25% value of L2 distance :  4.3318006559522395\n",
      "median value of L2 distance : :  5.041110322175832\n",
      "75% value of L2 distance : :  6.1340739281832235\n",
      "maximum value of L2 distance :  30.018022831253774\n",
      "For gamma= 1000 :\n",
      "minimum value of L2 distance :  3.34080881626459\n",
      "25% value of L2 distance :  4.321536254614223\n",
      "median value of L2 distance : :  5.303648706365006\n",
      "75% value of L2 distance : :  6.266842812337335\n",
      "maximum value of L2 distance :  11.975684179480742\n",
      "For gamma= 10000 :\n",
      "minimum value of L2 distance :  2.8240949680658205\n",
      "25% value of L2 distance :  4.50657263602293\n",
      "median value of L2 distance : :  5.3364220378052964\n",
      "75% value of L2 distance : :  6.663562819110861\n",
      "maximum value of L2 distance :  25.76845691170789\n",
      "10 10\n"
     ]
    }
   ],
   "source": [
    "Z=[]\n",
    "for i in range(0,len(gamma)):\n",
    "    z = (generatingl2(gamma[i], wtrue,sample,noisesigma))\n",
    "    print(\"For gamma=\",gamma[i],\":\")\n",
    "    print(\"minimum value of L2 distance : \", np.quantile(z, 0))\n",
    "    print(\"25% value of L2 distance : \", np.quantile(z, .25)) \n",
    "    print(\"median value of L2 distance : : \", np.quantile(z, .50)) \n",
    "    print(\"75% value of L2 distance : : \", np.quantile(z, .75))\n",
    "    print(\"maximum value of L2 distance : \", np.quantile(z, 1))\n",
    "    Z.append(z)\n",
    "pos = [i for i in range(0,len(gamma))]\n",
    "print(len(Z), len(pos))"
   ]
  },
  {
   "cell_type": "code",
   "execution_count": 9,
   "metadata": {},
   "outputs": [
    {
     "data": {
      "image/png": "[encoded data removed]",
      "text/plain": [
       "<Figure size 1120x640 with 1 Axes>"
      ]
     },
     "metadata": {},
     "output_type": "display_data"
    }
   ],
   "source": [
    "plt.figure(1,figsize=(14,8), dpi=80, facecolor='w', edgecolor='k' )\n",
    "plt.boxplot(Z,positions=pos,showfliers=False)\n",
    "plt.title(\"MAP estimate plot for various value of gamma ranging from -5 to 5\")\n",
    "plt.show() "
   ]
  },
  {
   "cell_type": "markdown",
   "metadata": {},
   "source": [
    "# As the parameter of the prior, which is gamma value, changes between the range of 10^(-5) to 10^(5) the difference between the minimum, 25%, median, 75% and maximum increases. As the value of gamma increases the MAP estimates approaches maximum liklihood estimate."
   ]
  }
 ],
 "metadata": {
  "kernelspec": {
   "display_name": "Python 3",
   "language": "python",
   "name": "python3"
  },
  "language_info": {
   "codemirror_mode": {
    "name": "ipython",
    "version": 3
   },
   "file_extension": ".py",
   "mimetype": "text/x-python",
   "name": "python",
   "nbconvert_exporter": "python",
   "pygments_lexer": "ipython3",
   "version": "3.7.3"
  }
 },
 "nbformat": 4,
 "nbformat_minor": 2
}
